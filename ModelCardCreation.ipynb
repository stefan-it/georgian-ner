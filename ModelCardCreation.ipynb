{
 "cells": [
  {
   "cell_type": "code",
   "execution_count": 1,
   "id": "6c743858",
   "metadata": {},
   "outputs": [],
   "source": [
    "import os\n",
    "import re\n",
    "\n",
    "import pandas as pd\n",
    "\n",
    "from dataclasses import dataclass\n",
    "from tabulate import tabulate\n",
    "from huggingface_hub import (\n",
    "    login,\n",
    "    HfApi,\n",
    "    list_models,\n",
    "    hf_hub_download,\n",
    "    ModelCard,\n",
    "    ModelCardData,\n",
    "    update_repo_visibility\n",
    ")"
   ]
  },
  {
   "cell_type": "code",
   "execution_count": 3,
   "id": "d1632eca",
   "metadata": {},
   "outputs": [
    {
     "name": "stdout",
     "output_type": "stream",
     "text": [
      "Token will not been saved to git credential helper. Pass `add_to_git_credential=True` if you want to set the git credential as well.\n",
      "Token is valid (permission: write).\n",
      "Your token has been saved to /home/stefan/.cache/huggingface/token\n",
      "Login successful\n"
     ]
    }
   ],
   "source": [
    "# Hub Login\n",
    "hf_token = os.environ.get(\"HF_TOKEN\")\n",
    "\n",
    "login(token=hf_token, add_to_git_credential=False)\n",
    "api = HfApi()"
   ]
  },
  {
   "cell_type": "code",
   "execution_count": 4,
   "id": "2cc73a62",
   "metadata": {},
   "outputs": [],
   "source": [
    "model_search_string = \"stefan-it/autotrain-flair-georgian-ner-xlm_r_large-\"\n",
    "trained_models = list(list_models(author=\"stefan-it\", search=model_search_string))"
   ]
  },
  {
   "cell_type": "code",
   "execution_count": 5,
   "id": "dec43a66",
   "metadata": {},
   "outputs": [
    {
     "name": "stdout",
     "output_type": "stream",
     "text": [
      "stefan-it/autotrain-flair-georgian-ner-xlm_r_large-bs4-e10-lr5e-06-1\n",
      "stefan-it/autotrain-flair-georgian-ner-xlm_r_large-bs4-e10-lr5e-06-2\n",
      "stefan-it/autotrain-flair-georgian-ner-xlm_r_large-bs4-e10-lr5e-06-3\n",
      "stefan-it/autotrain-flair-georgian-ner-xlm_r_large-bs4-e10-lr5e-06-4\n",
      "stefan-it/autotrain-flair-georgian-ner-xlm_r_large-bs4-e10-lr5e-06-5\n"
     ]
    }
   ],
   "source": [
    "# Display model ids\n",
    "\n",
    "model_ids = [model.modelId for model in trained_models]\n",
    "print(\"\\n\".join(model_ids))"
   ]
  },
  {
   "cell_type": "code",
   "execution_count": 7,
   "id": "0527c2a0",
   "metadata": {},
   "outputs": [],
   "source": [
    "hyper_parameter_regex = re.compile(\".*(?P<batch_size>bs.*?)-(?P<epoch>e.*?)-(?P<learning_rate>lr.*?)-(?P<seed>\\d+)$\")\n",
    "\n",
    "@dataclass\n",
    "class ModelInfo:\n",
    "    model_id: str\n",
    "    dev_f1_score: float\n",
    "    batch_size: int\n",
    "    epoch: int\n",
    "    learning_rate: float\n",
    "    seed: int"
   ]
  },
  {
   "cell_type": "code",
   "execution_count": 8,
   "id": "a79cbd53",
   "metadata": {},
   "outputs": [],
   "source": [
    "# Get best model score from training log\n",
    "def get_best_model_score(input_file: str) -> float:\n",
    "    all_dev_results = []\n",
    "    with open(input_file, \"rt\") as f_p:\n",
    "        for line in f_p:\n",
    "            line = line.rstrip()\n",
    "            if \"f1-score (micro avg)\" in line:\n",
    "                dev_result = line.split(\" \")[-1]\n",
    "                all_dev_results.append(dev_result)\n",
    "\n",
    "        return max([float(value) for value in all_dev_results])"
   ]
  },
  {
   "cell_type": "code",
   "execution_count": 10,
   "id": "2016f801",
   "metadata": {},
   "outputs": [],
   "source": [
    "# Get best f1-score from Flair training log for each model\n",
    "# and construct nice ModelInfo instance\n",
    "model_infos = []\n",
    "\n",
    "hyper_params = [\"batch_size\", \"epoch\", \"learning_rate\", \"seed\"]\n",
    "\n",
    "for model_id in model_ids:\n",
    "    # Fetch Flair training log\n",
    "    training_log_file = hf_hub_download(repo_id=model_id, filename=\"training.log\")\n",
    "    dev_f1_score = get_best_model_score(training_log_file)\n",
    "    \n",
    "    matches = hyper_parameter_regex.match(model_id)\n",
    "    \n",
    "    params = [matches.group(hyper_param) for hyper_param in hyper_params]\n",
    "    model_info_args = (model_id, dev_f1_score, *params)\n",
    "\n",
    "    model_infos.append(ModelInfo(*model_info_args))"
   ]
  },
  {
   "cell_type": "code",
   "execution_count": 14,
   "id": "2d809551",
   "metadata": {},
   "outputs": [
    {
     "name": "stdout",
     "output_type": "stream",
     "text": [
      "[ModelInfo(model_id='stefan-it/autotrain-flair-georgian-ner-xlm_r_large-bs4-e10-lr5e-06-1', dev_f1_score=0.9005, batch_size='bs4', epoch='e10', learning_rate='lr5e-06', seed='1'), ModelInfo(model_id='stefan-it/autotrain-flair-georgian-ner-xlm_r_large-bs4-e10-lr5e-06-2', dev_f1_score=0.9012, batch_size='bs4', epoch='e10', learning_rate='lr5e-06', seed='2'), ModelInfo(model_id='stefan-it/autotrain-flair-georgian-ner-xlm_r_large-bs4-e10-lr5e-06-3', dev_f1_score=0.9069, batch_size='bs4', epoch='e10', learning_rate='lr5e-06', seed='3'), ModelInfo(model_id='stefan-it/autotrain-flair-georgian-ner-xlm_r_large-bs4-e10-lr5e-06-4', dev_f1_score=0.905, batch_size='bs4', epoch='e10', learning_rate='lr5e-06', seed='4'), ModelInfo(model_id='stefan-it/autotrain-flair-georgian-ner-xlm_r_large-bs4-e10-lr5e-06-5', dev_f1_score=0.9048, batch_size='bs4', epoch='e10', learning_rate='lr5e-06', seed='5')]\n"
     ]
    }
   ],
   "source": [
    "print(model_infos)"
   ]
  },
  {
   "cell_type": "code",
   "execution_count": 15,
   "id": "e44260dd",
   "metadata": {},
   "outputs": [
    {
     "name": "stdout",
     "output_type": "stream",
     "text": [
      "{'bs4-e10-lr5e-06'}\n"
     ]
    }
   ],
   "source": [
    "# Find out all hyper-parameter configurations: (Batch Size, Epoch, Learning Rate)\n",
    "\n",
    "configurations = set([\n",
    "    f\"{model_info.batch_size}-{model_info.epoch}-{model_info.learning_rate}\" for model_info in model_infos\n",
    "])\n",
    "\n",
    "print(configurations)"
   ]
  },
  {
   "cell_type": "code",
   "execution_count": 16,
   "id": "264c0329",
   "metadata": {},
   "outputs": [],
   "source": [
    "df_data = [\n",
    "    [configuration, model_info.dev_f1_score\n",
    "    ]\n",
    "    for model_info in model_infos\n",
    "    for configuration in configurations\n",
    "    \n",
    "    if f\"{model_info.batch_size}-{model_info.epoch}-{model_info.learning_rate}\" == configuration\n",
    "]"
   ]
  },
  {
   "cell_type": "code",
   "execution_count": 21,
   "id": "c2990b92",
   "metadata": {},
   "outputs": [
    {
     "name": "stdout",
     "output_type": "stream",
     "text": [
      "     Configuration  F1-Score\n",
      "0  bs4-e10-lr5e-06    0.9005\n",
      "1  bs4-e10-lr5e-06    0.9012\n",
      "2  bs4-e10-lr5e-06    0.9069\n",
      "3  bs4-e10-lr5e-06    0.9050\n",
      "4  bs4-e10-lr5e-06    0.9048\n"
     ]
    }
   ],
   "source": [
    "df = pd.DataFrame(df_data, columns=[\"Configuration\", \"F1-Score\"])\n",
    "print(df)"
   ]
  },
  {
   "cell_type": "code",
   "execution_count": 22,
   "id": "8c1115f4",
   "metadata": {},
   "outputs": [],
   "source": [
    "df = df[df.duplicated(\"Configuration\", keep=False)].groupby(\"Configuration\")[\"F1-Score\"].apply(list).reset_index()"
   ]
  },
  {
   "cell_type": "code",
   "execution_count": 23,
   "id": "3e3fa02d",
   "metadata": {},
   "outputs": [
    {
     "name": "stdout",
     "output_type": "stream",
     "text": [
      "     Configuration                                 F1-Score\n",
      "0  bs4-e10-lr5e-06  [0.9005, 0.9012, 0.9069, 0.905, 0.9048]\n"
     ]
    }
   ],
   "source": [
    "print(df)"
   ]
  },
  {
   "cell_type": "code",
   "execution_count": 24,
   "id": "f546c1c4",
   "metadata": {},
   "outputs": [],
   "source": [
    "# How many seeds do we have?\n",
    "number_seeds = len(df[\"F1-Score\"].to_list()[0])\n",
    "seed_columns = [f\"Seed {index + 1}\" for index in range(number_seeds)]\n",
    "\n",
    "split = pd.DataFrame(df[\"F1-Score\"].to_list(), columns=seed_columns)"
   ]
  },
  {
   "cell_type": "code",
   "execution_count": 25,
   "id": "2b59456d",
   "metadata": {},
   "outputs": [
    {
     "name": "stdout",
     "output_type": "stream",
     "text": [
      "   Seed 1  Seed 2  Seed 3  Seed 4  Seed 5\n",
      "0  0.9005  0.9012  0.9069   0.905  0.9048\n"
     ]
    }
   ],
   "source": [
    "print(split)"
   ]
  },
  {
   "cell_type": "code",
   "execution_count": 26,
   "id": "882bd5e8",
   "metadata": {},
   "outputs": [
    {
     "name": "stdout",
     "output_type": "stream",
     "text": [
      "     Configuration  Seed 1  Seed 2  Seed 3  Seed 4  Seed 5  Average    Std.\n",
      "0  bs4-e10-lr5e-06  0.9005  0.9012  0.9069   0.905  0.9048   0.9037  0.0027\n"
     ]
    }
   ],
   "source": [
    "final_df = pd.concat([df, split], axis=1)\n",
    "final_df = final_df.drop(\"F1-Score\", axis=1)\n",
    "final_df[\"Average\"] = final_df[seed_columns].mean(axis=1).round(4)\n",
    "final_df[\"Std.\"] = final_df[seed_columns].std(axis=1).round(4)\n",
    "\n",
    "final_df.sort_values(by=\"Average\", ascending=False, inplace=True)\n",
    "\n",
    "print(final_df)"
   ]
  },
  {
   "cell_type": "code",
   "execution_count": 27,
   "id": "b5f6034a",
   "metadata": {},
   "outputs": [
    {
     "name": "stdout",
     "output_type": "stream",
     "text": [
      "| Configuration   |   Seed 1 |   Seed 2 |   Seed 3 |   Seed 4 |   Seed 5 |   Average |   Std. |\n",
      "|:----------------|---------:|---------:|---------:|---------:|---------:|----------:|-------:|\n",
      "| bs4-e10-lr5e-06 |   0.9005 |   0.9012 |   0.9069 |    0.905 |   0.9048 |    0.9037 | 0.0027 |\n"
     ]
    }
   ],
   "source": [
    "print(final_df.to_markdown(index=False))"
   ]
  },
  {
   "cell_type": "code",
   "execution_count": 28,
   "id": "40f59110",
   "metadata": {},
   "outputs": [
    {
     "name": "stdout",
     "output_type": "stream",
     "text": [
      "ModelInfo(model_id='stefan-it/autotrain-flair-georgian-ner-xlm_r_large-bs4-e10-lr5e-06-5', dev_f1_score=0.9048, batch_size='bs4', epoch='e10', learning_rate='lr5e-06', seed='5')\n",
      "\n",
      "Test Results Table:\n",
      "\n",
      "| Configuration     | Seed 1      | Seed 2      | Seed 3      | Seed 4     | Seed 5          | Average         |\n",
      "|-------------------|-------------|-------------|-------------|------------|-----------------|-----------------|\n",
      "| `bs4-e10-lr5e-06` | [0.9005][1] | [0.9012][2] | [0.9069][3] | [0.905][4] | [**0.9048**][5] | 0.9037 ± 0.0027 |\n",
      "\n",
      "[1]: https://hf.co/stefan-it/autotrain-flair-georgian-ner-xlm_r_large-bs4-e10-lr5e-06-1\n",
      "[2]: https://hf.co/stefan-it/autotrain-flair-georgian-ner-xlm_r_large-bs4-e10-lr5e-06-2\n",
      "[3]: https://hf.co/stefan-it/autotrain-flair-georgian-ner-xlm_r_large-bs4-e10-lr5e-06-3\n",
      "[4]: https://hf.co/stefan-it/autotrain-flair-georgian-ner-xlm_r_large-bs4-e10-lr5e-06-4\n",
      "[5]: https://hf.co/stefan-it/autotrain-flair-georgian-ner-xlm_r_large-bs4-e10-lr5e-06-5\n"
     ]
    }
   ],
   "source": [
    "# But we need results table with nice references to actual models on the hub\n",
    "# Including highlighted F1-Score (bold) of current model\n",
    "def get_results_table(final_df, model_infos, current_model_info):\n",
    "    headers = final_df.columns.tolist()\n",
    "    \n",
    "    sorted_configurations = final_df[\"Configuration\"].tolist()\n",
    "    sorted_averages = final_df[\"Average\"].tolist()\n",
    "    sorted_stds = final_df[\"Std.\"].tolist()\n",
    "    \n",
    "    rows = []\n",
    "    \n",
    "    ref_counter = 1\n",
    "    ref_list = []\n",
    "    \n",
    "    for sorted_configuration, sorted_average, sorted_std in zip(sorted_configurations, sorted_averages, sorted_stds):\n",
    "        current_row = [f\"`{sorted_configuration}`\"]\n",
    "        \n",
    "        for model_info in model_infos:\n",
    "            if f\"{model_info.batch_size}-{model_info.epoch}-{model_info.learning_rate}\" == sorted_configuration:\n",
    "                # Model belongs to current configuration\n",
    "                # Score + Model link looks like: [0.8585][4]\n",
    "                seed_entry = f\"[{model_info.dev_f1_score}][{ref_counter}]\"\n",
    "                \n",
    "                # Special case: model is current model, so we need to bold it\n",
    "                if model_info == current_model_info:\n",
    "                    seed_entry = f\"[**{model_info.dev_f1_score}**][{ref_counter}]\"\n",
    "    \n",
    "                current_row.append(seed_entry)\n",
    "    \n",
    "                ref_list.append(f\"[{ref_counter}]: https://hf.co/{model_info.model_id}\")\n",
    "                ref_counter += 1\n",
    "    \n",
    "        current_row.append(f\"{sorted_average} ± {sorted_std}\")\n",
    "        \n",
    "        rows.append(current_row)\n",
    "\n",
    "    results_table = tabulate(rows, headers=headers, tablefmt=\"github\") + \"\\n\\n\" + \"\\n\".join(ref_list)\n",
    "    \n",
    "    return results_table\n",
    "    \n",
    "# Test it:\n",
    "test_results_table = get_results_table(final_df, model_infos, model_infos[4])\n",
    "print(model_infos[4])\n",
    "print(\"\\nTest Results Table:\\n\")\n",
    "print(test_results_table)"
   ]
  },
  {
   "cell_type": "code",
   "execution_count": 29,
   "id": "a66ce405",
   "metadata": {},
   "outputs": [],
   "source": [
    "base_model = \"xlm-roberta-large\"\n",
    "base_model_short = \"XLM-R Large\"\n",
    "\n",
    "# Determine them automatically\n",
    "batch_sizes = set([\n",
    "    model_info.batch_size.replace(\"bs\", \"\") for model_info in model_infos\n",
    "])\n",
    "\n",
    "learning_rates = set([\n",
    "    model_info.learning_rate.replace(\"lr\", \"\") for model_info in model_infos\n",
    "])\n",
    "\n",
    "widget_text = \"\"\"\n",
    "ამით თავისი ქადაგება დაასრულა და დაბრუნდა იერუსალიმში . ერთ-ერთ გარე კედელზე არსებობს ერნესტო ჩე გევარას პორტრეტი . შაკოსკა“ ინახება ბრაზილიაში , სან-პაულუს ხელოვნების მუზეუმში .\n",
    "\"\"\""
   ]
  },
  {
   "cell_type": "code",
   "execution_count": 30,
   "id": "ee92cd7d",
   "metadata": {},
   "outputs": [
    {
     "name": "stdout",
     "output_type": "stream",
     "text": [
      "https://huggingface.co/stefan-it/autotrain-flair-georgian-ner-xlm_r_large-bs4-e10-lr5e-06-1/blob/refs%2Fpr%2F1/README.md\n",
      "\n",
      "https://huggingface.co/stefan-it/autotrain-flair-georgian-ner-xlm_r_large-bs4-e10-lr5e-06-2/blob/refs%2Fpr%2F1/README.md\n",
      "\n",
      "https://huggingface.co/stefan-it/autotrain-flair-georgian-ner-xlm_r_large-bs4-e10-lr5e-06-3/blob/refs%2Fpr%2F1/README.md\n",
      "\n",
      "https://huggingface.co/stefan-it/autotrain-flair-georgian-ner-xlm_r_large-bs4-e10-lr5e-06-4/blob/refs%2Fpr%2F1/README.md\n",
      "\n",
      "https://huggingface.co/stefan-it/autotrain-flair-georgian-ner-xlm_r_large-bs4-e10-lr5e-06-5/blob/refs%2Fpr%2F1/README.md\n",
      "\n"
     ]
    }
   ],
   "source": [
    "# Now let's create model cards for all fine-tuned models 🤗\n",
    "# Use this to create follow-up PRs when modifications are made in model card template!\n",
    "\n",
    "commit_message = \"readme: add initial version of model card\"\n",
    "commit_description = \"Hey,\\n\\nthis PR adds the initial version of model card.\"\n",
    "create_pr = True\n",
    "\n",
    "for model in model_infos:\n",
    "    current_results_table = get_results_table(final_df, model_infos, model)\n",
    "    card_data = ModelCardData()\n",
    "    card = ModelCard.from_template(card_data, template_path=\"model_card_template.md\",\n",
    "                                   base_model=base_model,\n",
    "                                   base_model_short=base_model_short,\n",
    "                                   batch_sizes=f'[{\", \".join([f\"`{bs}`\" for bs in batch_sizes ])}]',\n",
    "                                   learning_rates=f'[{\", \".join([f\"`{lr}`\" for lr in learning_rates ])}]',\n",
    "                                   results=current_results_table,\n",
    "                                   widget_text=widget_text.strip()\n",
    "                                  )\n",
    "\n",
    "    commit_url = card.push_to_hub(repo_id=model.model_id,\n",
    "                                  create_pr=create_pr,\n",
    "                                  commit_message=commit_message,\n",
    "                                  commit_description=commit_description)\n",
    "    \n",
    "    print(commit_url + \"\\n\")"
   ]
  },
  {
   "cell_type": "code",
   "execution_count": 31,
   "id": "46d9d472",
   "metadata": {},
   "outputs": [
    {
     "name": "stdout",
     "output_type": "stream",
     "text": [
      "Update visibility to True for repo https://hf.co/stefan-it/autotrain-flair-georgian-ner-xlm_r_large-bs4-e10-lr5e-06-1\n",
      "Update visibility to True for repo https://hf.co/stefan-it/autotrain-flair-georgian-ner-xlm_r_large-bs4-e10-lr5e-06-2\n",
      "Update visibility to True for repo https://hf.co/stefan-it/autotrain-flair-georgian-ner-xlm_r_large-bs4-e10-lr5e-06-3\n",
      "Update visibility to True for repo https://hf.co/stefan-it/autotrain-flair-georgian-ner-xlm_r_large-bs4-e10-lr5e-06-4\n",
      "Update visibility to True for repo https://hf.co/stefan-it/autotrain-flair-georgian-ner-xlm_r_large-bs4-e10-lr5e-06-5\n"
     ]
    }
   ],
   "source": [
    "# Now make repositories publicly visible\n",
    "for model in model_infos:\n",
    "    print(f\"Update visibility to True for repo https://hf.co/{model.model_id}\")\n",
    "    update_repo_visibility(repo_id=model.model_id, private=False)"
   ]
  }
 ],
 "metadata": {
  "kernelspec": {
   "display_name": "Python 3 (ipykernel)",
   "language": "python",
   "name": "python3"
  },
  "language_info": {
   "codemirror_mode": {
    "name": "ipython",
    "version": 3
   },
   "file_extension": ".py",
   "mimetype": "text/x-python",
   "name": "python",
   "nbconvert_exporter": "python",
   "pygments_lexer": "ipython3",
   "version": "3.11.6"
  }
 },
 "nbformat": 4,
 "nbformat_minor": 5
}
